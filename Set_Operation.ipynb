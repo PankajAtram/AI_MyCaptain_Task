{
 "cells": [
  {
   "cell_type": "code",
   "execution_count": 11,
   "id": "d47c20ea",
   "metadata": {},
   "outputs": [],
   "source": [
    "E = {1,2,3,4,5}\n",
    "N = {0,2,4,6,8}"
   ]
  },
  {
   "cell_type": "code",
   "execution_count": 12,
   "id": "aebf77c4",
   "metadata": {},
   "outputs": [
    {
     "name": "stdout",
     "output_type": "stream",
     "text": [
      "{0, 1, 2, 3, 4, 5, 6, 8}\n"
     ]
    }
   ],
   "source": [
    "# Union\n",
    "\n",
    "print(E.union(N))"
   ]
  },
  {
   "cell_type": "code",
   "execution_count": 13,
   "id": "b38ab544",
   "metadata": {},
   "outputs": [
    {
     "name": "stdout",
     "output_type": "stream",
     "text": [
      "{2, 4}\n"
     ]
    }
   ],
   "source": [
    "# intersection\n",
    "\n",
    "print(E.intersection(N))"
   ]
  },
  {
   "cell_type": "code",
   "execution_count": 14,
   "id": "d6db4b7c",
   "metadata": {},
   "outputs": [
    {
     "name": "stdout",
     "output_type": "stream",
     "text": [
      "{1, 3, 5}\n",
      "{0, 8, 6}\n"
     ]
    }
   ],
   "source": [
    "# difference\n",
    "\n",
    "print(E.difference(N))\n",
    "print(N.difference(E))"
   ]
  },
  {
   "cell_type": "code",
   "execution_count": 15,
   "id": "53ec9b74",
   "metadata": {},
   "outputs": [
    {
     "name": "stdout",
     "output_type": "stream",
     "text": [
      "{0, 1, 3, 5, 6, 8}\n"
     ]
    }
   ],
   "source": [
    "# symmetric_difference\n",
    "\n",
    "print(E.symmetric_difference(N))"
   ]
  }
 ],
 "metadata": {
  "kernelspec": {
   "display_name": "Python 3",
   "language": "python",
   "name": "python3"
  },
  "language_info": {
   "codemirror_mode": {
    "name": "ipython",
    "version": 3
   },
   "file_extension": ".py",
   "mimetype": "text/x-python",
   "name": "python",
   "nbconvert_exporter": "python",
   "pygments_lexer": "ipython3",
   "version": "3.8.8"
  }
 },
 "nbformat": 4,
 "nbformat_minor": 5
}
