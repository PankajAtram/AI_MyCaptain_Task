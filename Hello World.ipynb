{
 "cells": [
  {
   "cell_type": "code",
   "execution_count": 1,
   "id": "99cb9cef",
   "metadata": {},
   "outputs": [],
   "source": [
    "# This is Sample code"
   ]
  },
  {
   "cell_type": "code",
   "execution_count": 2,
   "id": "1f58678f",
   "metadata": {},
   "outputs": [],
   "source": [
    "# Using Below code print Hello World"
   ]
  },
  {
   "cell_type": "code",
   "execution_count": 3,
   "id": "225c10d2",
   "metadata": {},
   "outputs": [
    {
     "name": "stdout",
     "output_type": "stream",
     "text": [
      "Hello World\n"
     ]
    }
   ],
   "source": [
    "print(\"Hello World\")"
   ]
  }
 ],
 "metadata": {
  "kernelspec": {
   "display_name": "Python 3",
   "language": "python",
   "name": "python3"
  },
  "language_info": {
   "codemirror_mode": {
    "name": "ipython",
    "version": 3
   },
   "file_extension": ".py",
   "mimetype": "text/x-python",
   "name": "python",
   "nbconvert_exporter": "python",
   "pygments_lexer": "ipython3",
   "version": "3.8.8"
  }
 },
 "nbformat": 4,
 "nbformat_minor": 5
}
